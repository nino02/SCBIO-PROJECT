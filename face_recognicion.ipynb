{
  "nbformat": 4,
  "nbformat_minor": 0,
  "metadata": {
    "colab": {
      "provenance": [],
      "include_colab_link": true
    },
    "kernelspec": {
      "name": "python3",
      "display_name": "Python 3"
    },
    "language_info": {
      "name": "python"
    }
  },
  "cells": [
    {
      "cell_type": "markdown",
      "metadata": {
        "id": "view-in-github",
        "colab_type": "text"
      },
      "source": [
        "<a href=\"https://colab.research.google.com/github/nino02/SCBIO-PROJECT/blob/main/face_recognicion.ipynb\" target=\"_parent\"><img src=\"https://colab.research.google.com/assets/colab-badge.svg\" alt=\"Open In Colab\"/></a>"
      ]
    },
    {
      "cell_type": "code",
      "source": [
        "pip install numpy opencv-python dlib imutils"
      ],
      "metadata": {
        "colab": {
          "base_uri": "https://localhost:8080/"
        },
        "id": "7f5toyZkWjnC",
        "outputId": "c6282b8a-a569-4d07-eb2e-d709dce9f4fc"
      },
      "execution_count": null,
      "outputs": [
        {
          "output_type": "stream",
          "name": "stdout",
          "text": [
            "Requirement already satisfied: numpy in /usr/local/lib/python3.10/dist-packages (1.25.2)\n",
            "Requirement already satisfied: opencv-python in /usr/local/lib/python3.10/dist-packages (4.8.0.76)\n",
            "Requirement already satisfied: dlib in /usr/local/lib/python3.10/dist-packages (19.24.4)\n",
            "Requirement already satisfied: imutils in /usr/local/lib/python3.10/dist-packages (0.5.4)\n"
          ]
        }
      ]
    },
    {
      "cell_type": "code",
      "source": [
        "import urllib.request\n",
        "import bz2\n",
        "import os\n",
        "\n",
        "url = \"http://dlib.net/files/shape_predictor_68_face_landmarks.dat.bz2\"\n",
        "filename = \"shape_predictor_68_face_landmarks.dat.bz2\"\n",
        "destination_filename = \"shape_predictor_68_face_landmarks.dat\"\n",
        "\n",
        "# Download der bz2-komprimierten Datei\n",
        "urllib.request.urlretrieve(url, filename)\n",
        "\n",
        "# Entpacken der bz2-Datei\n",
        "with bz2.BZ2File(filename, 'rb') as f:\n",
        "    content = f.read()\n",
        "\n",
        "# Speichern der entpackten Datei\n",
        "with open(destination_filename, 'wb') as f:\n",
        "    f.write(content)\n",
        "\n",
        "# Löschen der ursprünglichen bz2-Datei\n",
        "os.remove(filename)\n",
        "\n",
        "print(f\"Modell gespeichert als {destination_filename}\")\n"
      ],
      "metadata": {
        "colab": {
          "base_uri": "https://localhost:8080/"
        },
        "id": "vQgG551uYJoM",
        "outputId": "280b153b-4214-4e8d-a036-46abf14345ac"
      },
      "execution_count": null,
      "outputs": [
        {
          "output_type": "stream",
          "name": "stdout",
          "text": [
            "Modell gespeichert als shape_predictor_68_face_landmarks.dat\n"
          ]
        }
      ]
    },
    {
      "cell_type": "code",
      "source": [
        "import cv2\n",
        "import dlib\n",
        "\n",
        "# Laden des Dlib-Gesichtserkenners und des Landmarken-Prädiktors\n",
        "detector = dlib.get_frontal_face_detector()\n",
        "predictor = dlib.shape_predictor('shape_predictor_68_face_landmarks.dat')\n",
        "\n",
        "# Kamera initialisieren\n",
        "cap = cv2.VideoCapture(0)\n",
        "\n",
        "if not cap.isOpened():\n",
        "    print(\"Error: Couldn't initialize camera\")\n",
        "else:\n",
        "    while True:\n",
        "        ret, frame = cap.read()\n",
        "        if not ret:\n",
        "            print(\"no frame from the camera, break.\")\n",
        "            break\n",
        "\n",
        "        gray = cv2.cvtColor(frame, cv2.COLOR_BGR2GRAY)\n",
        "        faces = detector(gray)\n",
        "\n",
        "        for face in faces:\n",
        "            x1, y1, x2, y2 = face.left(), face.top(), face.right(), face.bottom()\n",
        "            cv2.rectangle(frame, (x1, y1), (x2, y2), (0, 255, 0), 3)\n",
        "\n",
        "            landmarks = predictor(gray, face)\n",
        "\n",
        "            for n in range(36, 48): # Augenlandmarken\n",
        "                x = landmarks.part(n).x\n",
        "                y = landmarks.part(n).y\n",
        "                cv2.circle(frame, (x, y), 2, (255, 0, 0), -1)\n",
        "\n",
        "        cv2.imshow(\"Frame\", frame)\n",
        "\n",
        "        key = cv2.waitKey(1) & 0xFF\n",
        "        if key == ord('q'):\n",
        "            break\n",
        "\n",
        "    cap.release()\n",
        "    cv2.destroyAllWindows()\n"
      ],
      "metadata": {
        "colab": {
          "base_uri": "https://localhost:8080/"
        },
        "id": "J9_yP1R4Xt9Z",
        "outputId": "6c55314f-165d-4736-ae76-f8d6d502d310"
      },
      "execution_count": null,
      "outputs": [
        {
          "output_type": "stream",
          "name": "stdout",
          "text": [
            "Error: Couldn't initialize camera\n"
          ]
        }
      ]
    }
  ]
}